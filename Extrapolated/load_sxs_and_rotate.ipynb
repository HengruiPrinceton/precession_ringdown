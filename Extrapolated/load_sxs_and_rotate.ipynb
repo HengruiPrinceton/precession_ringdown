{
 "cells": [
  {
   "cell_type": "code",
   "execution_count": 1,
   "id": "9cd08478",
   "metadata": {},
   "outputs": [],
   "source": [
    "import matplotlib.pyplot as plt\n",
    "import sxs\n",
    "import numpy as np\n",
    "import astropy.units as u\n",
    "from scipy.special import roots_legendre, sph_harm\n",
    "from scipy.integrate import simpson\n",
    "from matplotlib.colors import LogNorm\n",
    "import qnm\n",
    "import scri\n",
    "import quaternion"
   ]
  },
  {
   "cell_type": "code",
   "execution_count": 2,
   "id": "f314920a",
   "metadata": {},
   "outputs": [],
   "source": [
    "plt.rcParams['axes.labelsize']=12\n",
    "plt.rcParams['axes.titlesize']=12"
   ]
  },
  {
   "cell_type": "code",
   "execution_count": 3,
   "id": "665b298b",
   "metadata": {},
   "outputs": [],
   "source": [
    "def unit_vector(vector):\n",
    "    \"\"\" Returns the unit vector of the vector.  \"\"\"\n",
    "    return vector / np.linalg.norm(vector)\n",
    "\n",
    "def angle_between(v1, v2):\n",
    "    \"\"\" Returns the angle in radians between vectors 'v1' and 'v2'::\n",
    "\n",
    "            >>> angle_between((1, 0, 0), (0, 1, 0))\n",
    "            1.5707963267948966\n",
    "            >>> angle_between((1, 0, 0), (1, 0, 0))\n",
    "            0.0\n",
    "            >>> angle_between((1, 0, 0), (-1, 0, 0))\n",
    "            3.141592653589793\n",
    "    \"\"\"\n",
    "    v1_u = unit_vector(v1)\n",
    "    v2_u = unit_vector(v2)\n",
    "    return np.arccos(np.clip(np.dot(v1_u, v2_u), -1.0, 1.0))"
   ]
  },
  {
   "cell_type": "markdown",
   "id": "12b2723f",
   "metadata": {
    "scrolled": true
   },
   "source": [
    "# Load and Rotate SpEC data"
   ]
  },
  {
   "cell_type": "code",
   "execution_count": 4,
   "id": "10c71f53",
   "metadata": {
    "scrolled": true
   },
   "outputs": [
    {
     "name": "stdout",
     "output_type": "stream",
     "text": [
      "Skipping download from 'https://data.black-holes.org/catalog.json' because local file is newer\n",
      "Found the following files to load from the SXS catalog:\n",
      "    SXS:BBH:0200v5/Lev3/rhOverM_Asymptotic_GeometricUnits_CoM.h5\n",
      "Found the following files to load from the SXS catalog:\n",
      "    SXS:BBH:0200v5/Lev3/metadata.json\n",
      "Found the following files to load from the SXS catalog:\n",
      "    SXS:BBH:0200v5/Lev3/Horizons.h5\n"
     ]
    }
   ],
   "source": [
    "spectra_rot = []\n",
    "spectra = []\n",
    "spectra_rot_p = []\n",
    "remnant_spin_amps = []\n",
    "theta_offsets = []\n",
    "phi_offsets = []\n",
    "mass_ratios = []\n",
    "catalog_names = []\n",
    "plunging_thetas = []\n",
    "plunging_phis = []\n",
    "mis_angs = []\n",
    "failed_names = []\n",
    "times = []\n",
    "remnant_masses = []\n",
    "deltaJs = []\n",
    "deltaJ_mis_angles = []\n",
    "eccentricities = []\n",
    "Jdot_mis_angles = []\n",
    "for i in range(200,201):#2300):\n",
    "    try:\n",
    "        waveform = sxs.load(\"SXS:BBH:%04d/Lev/rhOverM\"%i, extrapolation_order=4)\n",
    "        metadata = sxs.load(\"SXS:BBH:%04d/Lev/metadata.json\"%i)\n",
    "        horizons = sxs.load(\"SXS:BBH:%04d/Lev/Horizons.h5\"%i)\n",
    "        data = waveform.data\n",
    "        t = waveform.t\n",
    "        \n",
    "        #eccentricity \n",
    "        eccentricity = metadata.reference_eccentricity\n",
    "        if type(eccentricity)==str:\n",
    "            eccentricity = float(eccentricity[1:])\n",
    "\n",
    "        # Velocity of the two holes and plunging angle\n",
    "        vA = np.array(horizons.A.coord_center_inertial[-1]-horizons.A.coord_center_inertial[-2])[0]\n",
    "        vB = np.array(horizons.B.coord_center_inertial[-1]-horizons.B.coord_center_inertial[-2])[0]\n",
    "        massA = metadata.initial_mass1\n",
    "        massB = metadata.initial_mass2\n",
    "\n",
    "        # normal for the plane of plunging\n",
    "        normal = np.cross(vA,vB)\n",
    "        plunging_theta = np.arccos(np.abs(normal[-1])/np.sqrt(np.sum(normal**2)))\n",
    "        plunging_phi = np.arctan2(normal[1],normal[0])\n",
    "\n",
    "        xA = np.array(horizons.A.coord_center_inertial[-1])[0]\n",
    "        xB = np.array(horizons.B.coord_center_inertial[-1])[0]\n",
    "        # define the plunging location in the frame of the more massive hole\n",
    "        if massA >= massB:\n",
    "            xdiff = xB-xA\n",
    "        else:\n",
    "            xdiff = xA-xB\n",
    "\n",
    "        # save data after peak strain\n",
    "        #tmax = horizons.C.time[0]\n",
    "        total_waveform = np.sum(np.abs(waveform.data),axis=1)\n",
    "        tmax = waveform.t[total_waveform==total_waveform[waveform.t>=300].max()][0]\n",
    "\n",
    "        # Angular spectrum in orbital frame at and beyond peak strain\n",
    "        spectrum = waveform.data[waveform.t>=tmax] #[0]\n",
    "        spectrum_rot = np.array(spectrum)\n",
    "        time = waveform.t[waveform.t>=tmax]\n",
    "\n",
    "        # remnant dimensionless spin vector\n",
    "        rem_spin = np.array(metadata.remnant_dimensionless_spin)\n",
    "        # remnant spin axis angle\n",
    "        theta_offset = np.arctan2(np.sqrt(rem_spin[0]**2+rem_spin[1]**2),rem_spin[2])\n",
    "        phi_offset = np.arctan2(rem_spin[1],rem_spin[0])\n",
    "\n",
    "        # spin amplitude\n",
    "        remnant_spin_amp = np.sqrt(np.sum(rem_spin**2))\n",
    "\n",
    "\n",
    "        h = scri.WaveformModes(\n",
    "            dataType = scri.h,\n",
    "            t = time,\n",
    "            data = spectrum_rot,\n",
    "            ell_min = 2,\n",
    "            ell_max = 8,\n",
    "            frameType = scri.Inertial,\n",
    "            r_is_scaled_out = True,\n",
    "            m_is_scaled_out = True\n",
    "            )\n",
    "        Jdot = scri.flux.angular_momentum_flux(h)\n",
    "\n",
    "        deltaJ = []\n",
    "        for j in range(3):\n",
    "            deltaJ.append(simpson(Jdot[:,j], x=time))\n",
    "        deltaJ = np.array(deltaJ)\n",
    "\n",
    "        deltaJ_mis_angle = np.arccos(np.dot(rem_spin,deltaJ)/np.sqrt(np.dot(rem_spin,rem_spin)\n",
    "                          *np.dot(deltaJ,deltaJ)))/np.pi*180\n",
    "        \n",
    "        # try using instantaneous flux to define the angle\n",
    "        Jdot_inst = Jdot[0]\n",
    "        \n",
    "        Jdot_mis_angle = angle_between(Jdot_inst,rem_spin)\n",
    "\n",
    "        # rotation\n",
    "        R = quaternion.from_euler_angles(np.array([phi_offset,theta_offset,0]), beta=None, gamma=None)\n",
    "        scri.rotations.rotate_decomposition_basis(h, R)\n",
    "        # mass ratio\n",
    "        mass_ratio = metadata.reference_mass_ratio\n",
    "\n",
    "        # misalignment angle between remnant spin and plunging angle\n",
    "        mis_ang = np.arccos(np.dot(normal,rem_spin)/np.sqrt(np.dot(normal,normal)\\\n",
    "                        *np.dot(rem_spin,rem_spin)))\n",
    "        #print(remnant_spin_amp.shape)\n",
    "        plunging_thetas.append(plunging_theta)\n",
    "        plunging_phis.append(plunging_phi)\n",
    "        remnant_spin_amps.append(remnant_spin_amp)\n",
    "        theta_offsets.append(theta_offset)\n",
    "        phi_offsets.append(np.mod(phi_offset,2*np.pi))\n",
    "        mass_ratios.append(mass_ratio)\n",
    "        times.append(time)\n",
    "        spectra.append(spectrum)\n",
    "        spectra_rot.append(spectrum_rot)\n",
    "        #spectra_rot_p.append(spectrum_rot_p)\n",
    "        mis_angs.append(mis_ang)\n",
    "        remnant_masses.append(metadata.remnant_mass)\n",
    "        catalog_names.append(\"SXS:BBH:%04d\"%i)\n",
    "        deltaJs.append(deltaJ)\n",
    "        deltaJ_mis_angles.append(deltaJ_mis_angle)\n",
    "        Jdot_mis_angles.append(Jdot_mis_angle)\n",
    "        eccentricities.append(eccentricity)\n",
    "    except:\n",
    "        print(\"Error: SXS:BBH:%s Not Found!\"%i )\n",
    "        failed_names.append(\"SXS:BBH:%04d\"%i)"
   ]
  },
  {
   "cell_type": "code",
   "execution_count": 8,
   "id": "6737e8f5",
   "metadata": {},
   "outputs": [
    {
     "data": {
      "text/plain": [
       "<matplotlib.legend.Legend at 0x7f39d4cad700>"
      ]
     },
     "execution_count": 8,
     "metadata": {},
     "output_type": "execute_result"
    },
    {
     "data": {
      "image/png": "[encoded data removed]",
      "text/plain": [
       "<Figure size 640x480 with 1 Axes>"
      ]
     },
     "metadata": {},
     "output_type": "display_data"
    }
   ],
   "source": [
    "plt.plot(times[0],np.abs(spectra[0][:,1].real),label='prior')\n",
    "plt.plot(times[0],np.abs(spectra_rot[0][:,1].real),label='rotated')\n",
    "\n",
    "plt.yscale('log')\n",
    "plt.legend()"
   ]
  },
  {
   "cell_type": "code",
   "execution_count": 9,
   "id": "9e020295",
   "metadata": {},
   "outputs": [
    {
     "name": "stderr",
     "output_type": "stream",
     "text": [
      "/tmp/ipykernel_1372799/2137220152.py:1: VisibleDeprecationWarning: Creating an ndarray from ragged nested sequences (which is a list-or-tuple of lists-or-tuples-or ndarrays with different lengths or shapes) is deprecated. If you meant to do this, you must specify 'dtype=object' when creating the ndarray.\n",
      "  times = np.array(times)\n",
      "/tmp/ipykernel_1372799/2137220152.py:2: VisibleDeprecationWarning: Creating an ndarray from ragged nested sequences (which is a list-or-tuple of lists-or-tuples-or ndarrays with different lengths or shapes) is deprecated. If you meant to do this, you must specify 'dtype=object' when creating the ndarray.\n",
      "  spectra = np.array(spectra)#,dtype=object)\n",
      "/tmp/ipykernel_1372799/2137220152.py:3: VisibleDeprecationWarning: Creating an ndarray from ragged nested sequences (which is a list-or-tuple of lists-or-tuples-or ndarrays with different lengths or shapes) is deprecated. If you meant to do this, you must specify 'dtype=object' when creating the ndarray.\n",
      "  spectra_rot = np.array(spectra_rot)#,dtype=object)\n"
     ]
    }
   ],
   "source": [
    "times = np.array(times)\n",
    "spectra = np.array(spectra)#,dtype=object)\n",
    "spectra_rot = np.array(spectra_rot)#,dtype=object)\n",
    "spectra_rot_p = np.array(spectra_rot_p)#,dtype=object)\n",
    "\n",
    "remnant_masses = np.array(remnant_masses)\n",
    "remnant_spin_amps = np.array(remnant_spin_amps)\n",
    "theta_offsets = np.array(theta_offsets)\n",
    "phi_offsets = np.array(phi_offsets)\n",
    "\n",
    "mass_ratios = np.array(mass_ratios)\n",
    "catalog_names = np.array(catalog_names)\n",
    "mis_angs = np.array(mis_angs)\n",
    "plunging_thetas = np.array(plunging_thetas)\n",
    "plunging_phis = np.array(plunging_phis)\n",
    "\n",
    "mis_angs[mis_angs>np.pi/2] = np.pi - mis_angs[mis_angs>np.pi/2]\n",
    "deltaJs = np.array(deltaJs)\n",
    "deltaJ_mis_angles=np.array(deltaJ_mis_angles)\n",
    "Jdot_mis_angles=np.array(Jdot_mis_angles)\n",
    "\n",
    "eccentricities = np.array(eccentricities)"
   ]
  },
  {
   "cell_type": "code",
   "execution_count": 10,
   "id": "8606c6a9",
   "metadata": {},
   "outputs": [],
   "source": [
    "np.savez('all_data_scri.npz',times=times, spectra=spectra, spectra_rot=spectra_rot, remnant_spin_amps= remnant_spin_amps,\\\n",
    "        theta_offsets=theta_offsets,phi_offsets=phi_offsets,mass_ratios=mass_ratios,catalog_names=catalog_names,\\\n",
    "        mis_angs=mis_angs,plunging_thetas=plunging_thetas,plunging_phis=plunging_phis,\\\n",
    "        remnant_masses=remnant_masses,deltaJ_mis_angles=deltaJ_mis_angles,deltaJs=deltaJs,\\\n",
    "        Jdot_mis_angles=Jdot_mis_angles,eccentricities=eccentricities)"
   ]
  },
  {
   "cell_type": "code",
   "execution_count": null,
   "id": "767ecfa0",
   "metadata": {},
   "outputs": [],
   "source": []
  }
 ],
 "metadata": {
  "kernelspec": {
   "display_name": "Python 3 (ipykernel)",
   "language": "python",
   "name": "python3"
  },
  "language_info": {
   "codemirror_mode": {
    "name": "ipython",
    "version": 3
   },
   "file_extension": ".py",
   "mimetype": "text/x-python",
   "name": "python",
   "nbconvert_exporter": "python",
   "pygments_lexer": "ipython3",
   "version": "3.8.10"
  },
  "toc": {
   "base_numbering": 1,
   "nav_menu": {},
   "number_sections": true,
   "sideBar": true,
   "skip_h1_title": false,
   "title_cell": "Table of Contents",
   "title_sidebar": "Contents",
   "toc_cell": false,
   "toc_position": {
    "height": "calc(100% - 180px)",
    "left": "10px",
    "top": "150px",
    "width": "225px"
   },
   "toc_section_display": true,
   "toc_window_display": true
  }
 },
 "nbformat": 4,
 "nbformat_minor": 5
}
